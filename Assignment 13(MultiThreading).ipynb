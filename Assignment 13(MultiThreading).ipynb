{
 "cells": [
  {
   "cell_type": "markdown",
   "id": "46fe7abf-adfc-4bc5-9ff5-3d4ea6f5c51d",
   "metadata": {},
   "source": [
    "Q.1.what is multithreading in python? why is it used? Name the module used to handle threads in python."
   ]
  },
  {
   "cell_type": "markdown",
   "id": "a3cce865-ddb6-42b0-a652-5bb980e05367",
   "metadata": {},
   "source": [
    "Ans.Multithreading in Python refers to the ability of a program to exicute multithreads concurrently within the same process .Each threads represents an independent flow of exicution and they share the same memory space ,which allows for efficient communication b/w them "
   ]
  },
  {
   "cell_type": "markdown",
   "id": "bdc9d7da-f783-47ac-8f54-7e0e6c721c12",
   "metadata": {},
   "source": [
    "The Python Global Interpreter Look(GIL) allows only thread to execute Python bytecode at a time ,which means the multithreading is suitable for I/O boumd tasks ,but might not provide a significant performance boost for CPU-bound tasks due to the GIL limitation ."
   ]
  },
  {
   "cell_type": "markdown",
   "id": "d6ee7079-7986-4ea6-95e4-dc37f3f30aca",
   "metadata": {},
   "source": [
    "Multithreading is used for task that can be parallelized and exicuted independently ,such as handling mujltiple clients in server application ,fetiching data from multiple sources simultaneously ,or performing background tasks while keeping the main application responsive ."
   ]
  },
  {
   "cell_type": "markdown",
   "id": "0fd8ee61-92c1-4938-9a0a-cb54100cf554",
   "metadata": {},
   "source": [
    "The module used to handle threads in Pyhon is called 'threading'.The 'threding'module provides classes and functions to work with threads and simplifiers the process of creating ,managing , and synchronizing threads. It allows us to create threads ,start them ,join them and manage synchronization using looks ,semaphores and condition ."
   ]
  },
  {
   "cell_type": "code",
   "execution_count": null,
   "id": "3a50ce60-13f0-47bf-bf94-f4886107b144",
   "metadata": {},
   "outputs": [],
   "source": []
  },
  {
   "cell_type": "markdown",
   "id": "5f454585-a6ce-4780-be61-9d8f316b8ced",
   "metadata": {},
   "source": [
    "Q.2.Why threading module used ? Write the use of following function :"
   ]
  },
  {
   "cell_type": "markdown",
   "id": "fc169947-8c50-4645-ae87-eb16e50e06c3",
   "metadata": {},
   "source": [
    "(a).active count()"
   ]
  },
  {
   "cell_type": "markdown",
   "id": "1bd9893e-5f46-4476-b499-92fa9b200c8e",
   "metadata": {},
   "source": [
    "(b).current thread()"
   ]
  },
  {
   "cell_type": "markdown",
   "id": "d2669ad3-0760-4219-9f71-3bc2400cdf5d",
   "metadata": {},
   "source": [
    "(c).enumerate()"
   ]
  },
  {
   "cell_type": "markdown",
   "id": "181c841c-0c2c-415b-9f29-14415485046c",
   "metadata": {},
   "source": [
    "Ans.The 'threading 'module in Python is used to work with threads . which are lightweight exicuyion units wihin a process .Threads allow cocurrent exicution of task and can be used to improve the performance of programs that have tasks that can be exicuted independently ."
   ]
  },
  {
   "cell_type": "markdown",
   "id": "fc8f5c5f-f4d5-46b4-8b6a-472036c03914",
   "metadata": {},
   "source": [
    "(a). active count(): This function is used to get number of currently active thread objects .It returns the total number of threads objects that are alive (have not been terminated ) and running .The function is part of the 'threading' module and can be called using 'threading active count()' .eg"
   ]
  },
  {
   "cell_type": "code",
   "execution_count": null,
   "id": "85c460f5-d0f8-422b-a6ea-3fb807e82c02",
   "metadata": {},
   "outputs": [],
   "source": [
    "import threading\n",
    "\n",
    "def my_function ():\n",
    "    \n",
    "thread1= threading.thread(target=my_function)\n",
    "thread2= threading.thread(target=my_function)\n",
    "\n",
    "thread1.strat()\n",
    "thread2.start()\n",
    "\n",
    "num_active_threads= threading.active_count()\n",
    "print(f\"number of active threads:{num_active_threads}\" )"
   ]
  },
  {
   "cell_type": "markdown",
   "id": "4d8ad875-7a40-4f5e-a80a-f1551ccf4e1b",
   "metadata": {},
   "source": [
    "in yhis example this example the output of 'num_active_threads' would be 3, as it includes the main threads (the thread taht run the main function )and the two additional threads we created."
   ]
  },
  {
   "cell_type": "markdown",
   "id": "3f172d22-dea7-421f-a70c-7ddf146d0c8d",
   "metadata": {},
   "source": [
    "(b).current thread(): This function returns the current thread object corresponding to the calling thread. The thread object represents the currently exicuting thread .This function is useful when we need to access or manipulate the current thread from within the thread's code .eg"
   ]
  },
  {
   "cell_type": "code",
   "execution_count": null,
   "id": "cb9ad199-4c12-4963-a2d8-0c4ec7309191",
   "metadata": {},
   "outputs": [],
   "source": [
    "import threading\n",
    "\n",
    "def my_function():\n",
    "    current_thread = threading.current_thread()\n",
    "    print(f\"current thread name:{current thread.name}\")\n",
    "    \n",
    "thread = threading.thread(target=my_function)\n",
    "thread.start()"
   ]
  },
  {
   "cell_type": "markdown",
   "id": "3658d285-4621-4eb2-b835-2d8b77df8745",
   "metadata": {},
   "source": [
    "in this example when the thread is started ,it will call the 'my_function',whic will print the name of current thread."
   ]
  },
  {
   "cell_type": "markdown",
   "id": "300e3b30-3aea-49cd-9232-b0e57e2a1edc",
   "metadata": {},
   "source": [
    "(c).enumerate(): This function returns a list of active thread objects .It returns a list containing all the thread objects that are currently alive .The function is useful when we need to access or manipulate all the running threads in the program.eg"
   ]
  },
  {
   "cell_type": "code",
   "execution_count": 2,
   "id": "2067c36f-1a0c-4465-a9e6-846b9aafa92d",
   "metadata": {},
   "outputs": [],
   "source": [
    "import threading\n",
    "def my_function():\n",
    "    pass\n",
    "\n",
    "thread1=threading.Thread(target=my_function)\n",
    "thread2=threading.Thread(target=my_function)\n",
    "\n",
    "thread1.start()\n",
    "thread2.start()\n",
    "\n",
    "active_threads=threading.enumerate()\n",
    "\n",
    "for threads in active_threads:\n",
    "    print(f\"Active threads name:{thread.name}\")"
   ]
  },
  {
   "cell_type": "markdown",
   "id": "1e668c45-75e0-4cbf-b150-bfc566498f63",
   "metadata": {},
   "source": [
    "In this example ,after starting two threads ,the 'enumerate()' will return a list containig both thread objects .the loop then prints the name of these active threads."
   ]
  },
  {
   "cell_type": "markdown",
   "id": "f77193f6-72a9-4a40-aa54-23dbf47b7bad",
   "metadata": {},
   "source": [
    "These functions are handy when working with threading to manage and monitor multiple threads in a Python program .The provide useful information about the running threads and help in synchronization and coordination task."
   ]
  },
  {
   "cell_type": "code",
   "execution_count": null,
   "id": "d78f47c4-ea10-4f74-8944-5fc2b1e60fdb",
   "metadata": {},
   "outputs": [],
   "source": []
  },
  {
   "cell_type": "markdown",
   "id": "b1060307-a82c-49f2-ac5b-d9b2d20b83ac",
   "metadata": {},
   "source": [
    "Q.3.Explain the folowing function :"
   ]
  },
  {
   "cell_type": "markdown",
   "id": "91fd4bae-e40d-4c62-aa7f-f391de8d2ccb",
   "metadata": {},
   "source": [
    "(1).run()"
   ]
  },
  {
   "cell_type": "markdown",
   "id": "da27004c-f70a-4f3d-938a-21cefcee5e3b",
   "metadata": {},
   "source": [
    "(2).start()"
   ]
  },
  {
   "cell_type": "markdown",
   "id": "03481013-1ea7-4b4d-b266-f6a10226500a",
   "metadata": {},
   "source": [
    "(3).join()"
   ]
  },
  {
   "cell_type": "markdown",
   "id": "8a6e3788-5a71-42ba-a6e3-a416516092cc",
   "metadata": {},
   "source": [
    "(4).isAlive()"
   ]
  },
  {
   "cell_type": "markdown",
   "id": "ff2d05ab-d0d3-4a69-9695-50f2a5f34f40",
   "metadata": {},
   "source": [
    "Ans.Threads allow a program to execute multiple tasks concurrently ,which can be benificial for improving performance and responsiveness .Let's explain each function :"
   ]
  },
  {
   "cell_type": "markdown",
   "id": "d29235b6-909d-4c2f-889c-66ab7f6400a3",
   "metadata": {},
   "source": [
    "(a).run(): In multi-threading ,this function is typically defined within a class that inherits from the 'thread 'class or similar threading library .when a thread is created ,it can be assigned a target function ,which is the run() function in this case ,when the the thread is started (using the starty metghod) it will call the run() function .This function contains the code that the thread will exicute concurrenly."
   ]
  },
  {
   "cell_type": "markdown",
   "id": "896726bd-873c-4681-a05d-173e7a89f458",
   "metadata": {},
   "source": [
    "(b).start(): The method is used to begin the exicution of a thread .It tells the operating system to create and start a new thread of exicution ,which will call the target function(run() function) associated with the thread. It's important to note that we should never call the run() method directly to start the thread; always use start() to ensure that the thread is created and executed properly ."
   ]
  },
  {
   "cell_type": "markdown",
   "id": "864ec60d-b9dc-47e5-8258-9d07461531e0",
   "metadata": {},
   "source": [
    "(c).join(): The method is used to wait for a thread to complete its exicution .When we call join () on a thread from another thread (usually the main thread),the calling thread will be paused ,and it will wait untill the thread it's calling join() on finishes its exicution .This often use to ensure that all threads have finished their work before the program proceeds further."
   ]
  },
  {
   "cell_type": "markdown",
   "id": "331a2031-7457-4f54-920b-419c79ce6d3c",
   "metadata": {},
   "source": [
    "(d).isAlive(): The method is used to check if a thread is currently running or still alive .When a thread is created using the start() method ,it begins its exicution and it remains alive untill its target function (run()function) completes its exicution .If we call isAlive() on a thread ,it will return 'True' ,if the thread is still running ,and 'False' if the thread is has completed its exicution  or hasn't been started yet."
   ]
  },
  {
   "cell_type": "markdown",
   "id": "f28e5f12-f9f7-4d07-b937-6ad8fac2e2d1",
   "metadata": {},
   "source": [
    "Here is a example to illustrate the usage of these functions:"
   ]
  },
  {
   "cell_type": "code",
   "execution_count": null,
   "id": "9d5e5c37-e80d-4cbc-b676-11626022b95b",
   "metadata": {},
   "outputs": [],
   "source": [
    "import threading\n",
    "import time\n",
    "\n",
    "class MyThread(threading.Thread):\n",
    "    def run(self):\n",
    "        for i in range(5):\n",
    "            print(f\"Thread {self.getName()}: {i}\")\n",
    "            time.sleep(1)\n",
    "            \n",
    "t = MyTread()\n",
    "t.start()\n",
    "\n",
    "for i in range(3):\n",
    "    print(f\"Main Thread: {i}\")\n",
    "    time.sleep(1)\n",
    "    \n",
    "t.join()\n",
    "\n",
    "print(f\"Is  thread alive? {t.isAlive()}\")"
   ]
  },
  {
   "cell_type": "markdown",
   "id": "75794d11-8f5a-4ed5-9272-939d05fbcbfd",
   "metadata": {},
   "source": [
    "In this example ,the custom 'MyThead' class inherits from 'threading.Thread', and its run() method contains a simple tool that prints some messages .The main thread and the custom thread ('t') run currently ,but we use 'join()' to make sure the main thread waits for the custom thread to complete before checking its status with 'isAlive()'."
   ]
  },
  {
   "cell_type": "markdown",
   "id": "7fb9ddad-40bc-452d-8cca-a1434b6a6522",
   "metadata": {},
   "source": []
  },
  {
   "cell_type": "markdown",
   "id": "28717f23-531b-4ba5-9d71-35f7915cd4a4",
   "metadata": {},
   "source": [
    "Q.4.write a python program to create two threads. Thread one must print the list of squares and thread two must print the list of cubes."
   ]
  },
  {
   "cell_type": "markdown",
   "id": "49aff161-dc93-41f3-bf0a-a9436e475a1b",
   "metadata": {},
   "source": [
    "Ans."
   ]
  },
  {
   "cell_type": "code",
   "execution_count": 37,
   "id": "cb8e3eee-9349-4704-9599-2cc471e845e3",
   "metadata": {},
   "outputs": [],
   "source": [
    "import threading"
   ]
  },
  {
   "cell_type": "code",
   "execution_count": 40,
   "id": "ec954ea9-43b9-47c7-8b0f-fef94cb81303",
   "metadata": {},
   "outputs": [],
   "source": [
    "def test(id):\n",
    "    print(\"squre power of the no %d\" %id)"
   ]
  },
  {
   "cell_type": "code",
   "execution_count": 42,
   "id": "b66b3fc8-a669-482b-86c2-a18f2259e774",
   "metadata": {},
   "outputs": [],
   "source": [
    "thread=[threading.Thread(target=test,args=(i**2,))for i in range(10)]"
   ]
  },
  {
   "cell_type": "code",
   "execution_count": 43,
   "id": "1841aafd-cae5-4493-9b6a-85ff3acb0cbb",
   "metadata": {},
   "outputs": [
    {
     "name": "stdout",
     "output_type": "stream",
     "text": [
      "squre power of the no 0\n",
      "squre power of the no 1\n",
      "squre power of the no 4\n",
      "squre power of the no 9\n",
      "squre power of the no 16\n",
      "squre power of the no 25\n",
      "squre power of the no 36\n",
      "squre power of the no 49\n",
      "squre power of the no 64\n",
      "squre power of the no 81\n"
     ]
    }
   ],
   "source": [
    "for t in thread:\n",
    "    t.start()"
   ]
  },
  {
   "cell_type": "code",
   "execution_count": 58,
   "id": "8b1ea9ec-3767-4ef8-af77-4af9d87d9932",
   "metadata": {},
   "outputs": [],
   "source": [
    "l2=\"cube of the no\""
   ]
  },
  {
   "cell_type": "code",
   "execution_count": 59,
   "id": "fa108d31-64c7-42c8-97b8-444bd2de1a0f",
   "metadata": {},
   "outputs": [],
   "source": [
    "def test(id):\n",
    "    print(l2,\"%d\" %id)"
   ]
  },
  {
   "cell_type": "code",
   "execution_count": 60,
   "id": "57f4ac5e-2d7d-473d-a484-3ab602647ab0",
   "metadata": {},
   "outputs": [],
   "source": [
    "thread=[threading.Thread(target=test,args=(i**3,))for i in range(10)]"
   ]
  },
  {
   "cell_type": "code",
   "execution_count": 61,
   "id": "10197b4e-79cb-4bb7-905d-4f7d419e02fb",
   "metadata": {},
   "outputs": [
    {
     "name": "stdout",
     "output_type": "stream",
     "text": [
      "cube of the no 0\n",
      "cube of the no 1\n",
      "cube of the no 8\n",
      "cube of the no 27\n",
      "cube of the no 64\n",
      "cube of the no 125\n",
      "cube of the no 216\n",
      "cube of the no 343\n",
      "cube of the no 512\n",
      "cube of the no 729\n"
     ]
    }
   ],
   "source": [
    "for t in thread:\n",
    "    t.start()"
   ]
  },
  {
   "cell_type": "code",
   "execution_count": null,
   "id": "46a4917d-26ad-436e-8b80-82b816912832",
   "metadata": {},
   "outputs": [],
   "source": []
  },
  {
   "cell_type": "markdown",
   "id": "4dea4fa8-54d7-45f9-8386-526e538889ec",
   "metadata": {},
   "source": [
    "Q.5. State advantages and disadvantages of multithreading."
   ]
  },
  {
   "cell_type": "markdown",
   "id": "3a787807-2346-4d71-8b44-b535abeadde4",
   "metadata": {},
   "source": [
    "Ans.Multithreading  can offer several advantages and disadvantages .Here are some key points to be considered :"
   ]
  },
  {
   "cell_type": "markdown",
   "id": "6e1dfbde-a999-4abd-8164-ee4155780248",
   "metadata": {},
   "source": [
    "Advantages of Multithreding:"
   ]
  },
  {
   "cell_type": "markdown",
   "id": "2bef9739-3cef-4cd4-93a6-2eecdcd9fa02",
   "metadata": {},
   "source": [
    "(a).Improve responsiveness: It allows the exicution of multithreads concurrently ,which can inhance the responsiveness of the program ,especially in the applications with the user interface .This prevents the UI from freezing the while performing time consuming tasks. "
   ]
  },
  {
   "cell_type": "markdown",
   "id": "358b9c7e-c123-4bb7-9422-c88c27bffe39",
   "metadata": {},
   "source": [
    "(b).Efficient Resource Utilization: It can maximize the utilization of multi-core-processors .It enables Python to take advantage of Multi CPU cores ,making it suitable for CPU-bound tasks that can be parallelized."
   ]
  },
  {
   "cell_type": "markdown",
   "id": "0d76801a-8c4e-440a-9303-ef26fc3a0b8a",
   "metadata": {},
   "source": [
    "(c).Simplified Program Structure: It can simplify the structure of certain programs by aloowing multiple parts of the the code to run cocurrently .This can lead to cleaner and more straight forward code compared to using complex asynchronous programming."
   ]
  },
  {
   "cell_type": "markdown",
   "id": "b32949bf-876e-4def-a416-80d62e30b2e7",
   "metadata": {},
   "source": [
    "Disadvantage of Multithreading:"
   ]
  },
  {
   "cell_type": "markdown",
   "id": "7f7c1a2c-8920-4b57-b4f0-2cf330573bf0",
   "metadata": {},
   "source": [
    "(a).Global Interpreter Look(GIL): Python's GIL restricts the exicution of mutithreads within the CPython interpreter .This means that even in multithreaded applications ,only one thread can execute .Python bytecode at a time ,limiting the performance gain for CPU-bound tasks ."
   ]
  },
  {
   "cell_type": "markdown",
   "id": "4e91e969-8220-4d65-ba10-385d3f565b19",
   "metadata": {},
   "source": [
    "(B).Complex Debugging: It introduces potential race conditiions ,deadlocks and other concurrency-related bugs that can be challenging to debug.Ensuring thread safety and synchronizing shared resources can add complexity to the codebase."
   ]
  },
  {
   "cell_type": "markdown",
   "id": "1073c093-77c3-4f4f-b4cb-deb368066e7a",
   "metadata": {},
   "source": [
    "(c).Thread Overhead: Creating and managing threads in Python incurs some overhead.if the tasks are relatively or not numerous ,the thread creation and context switching overhead might outweigh the benifits of parallelization."
   ]
  },
  {
   "cell_type": "markdown",
   "id": "78da023e-042e-429a-80ce-230ceb09d7eb",
   "metadata": {},
   "source": [
    "(d).NO True Parallel Exicution: As the consequence of the GIL ,it can not run in parallel on multiple CPU cores ,except when exicuting certain C-extensions that release the GIL ."
   ]
  },
  {
   "cell_type": "markdown",
   "id": "8e9cf893-6fa8-45ff-b624-5cbeb3928825",
   "metadata": {},
   "source": [
    "In conclusion ,multithreading in python can be usrful for certain type of tasks ,particularly I/O bound operratiuon that tasks that benifits from improved responsiveness .However for CPU bound tasks and true parallelism,alternative approches like Multiprocessing or synchronous programming  may be moresuitable."
   ]
  },
  {
   "cell_type": "code",
   "execution_count": null,
   "id": "ab62478b-819e-4d15-a522-b0084951ca3d",
   "metadata": {},
   "outputs": [],
   "source": []
  },
  {
   "cell_type": "markdown",
   "id": "ecd49e37-79b8-4a8d-8111-c72a39d7a5e3",
   "metadata": {},
   "source": [
    "Q.6. Explain deadlocks and race conditions."
   ]
  },
  {
   "cell_type": "markdown",
   "id": "6c139dab-46e4-412a-bb62-da17ea3b1fc1",
   "metadata": {},
   "source": [
    "Ans.Deadlocks and Race conditions are both cocurrency-related issue that can occure in multi-threaded or multiprocess applications.They can lead to unexpected and undesirable behaviour ,making it essential to understand and handle them correctly."
   ]
  },
  {
   "cell_type": "markdown",
   "id": "b0d8bf39-a588-4c6f-b759-f91030249d7a",
   "metadata": {},
   "source": [
    "(1).Deadlocks: It is a situation where two or more threads or processes are unable to proceed with their exicution because each is waiting for a resource that is held by another ,In other words each thread is blocking the other ,resulting in a standstill."
   ]
  },
  {
   "cell_type": "markdown",
   "id": "7f6dec09-8d55-4c95-9aae-f32e51a5940b",
   "metadata": {},
   "source": [
    "Consider the following scenario involving two threads ,A and B , and resources R1 and R2 "
   ]
  },
  {
   "cell_type": "markdown",
   "id": "e839b554-ef30-4501-b75b-2ba5eb14a280",
   "metadata": {},
   "source": [
    "> Thread A acquires resource R1"
   ]
  },
  {
   "cell_type": "markdown",
   "id": "8a5cdf04-6dc5-4c0e-b6fd-4fb74ea8b1b9",
   "metadata": {},
   "source": [
    ">Thread B acquires resource R2"
   ]
  },
  {
   "cell_type": "markdown",
   "id": "02e64ed1-34df-4de2-ad71-b8110a797624",
   "metadata": {},
   "source": [
    "Thread A tries to acquire R2 but is blocked because it is held by Thread B."
   ]
  },
  {
   "cell_type": "markdown",
   "id": "24a22a4b-0ed5-45c2-9b71-c6b7810346ce",
   "metadata": {},
   "source": [
    "Thread B tries to aquire R1 but is blocked because it is held by Thread A."
   ]
  },
  {
   "cell_type": "markdown",
   "id": "58dbb001-dc3f-4472-90b9-7f89ba00c1ee",
   "metadata": {},
   "source": [
    "Now both Threads are stuck waiting for the resource handling or locking mechanisms.They are often challenging to detect and resolve as they depend on the specific timing and interleaving of thraed exicution."
   ]
  },
  {
   "cell_type": "markdown",
   "id": "58892aef-6e94-4c0c-8ef1-f9130faade4f",
   "metadata": {},
   "source": [
    "One common approach to use deadlocks avoiding algorithm ,where thread requests resources in a specific order to avoid circullar dependencies .Alternatively ,deadlocks can be avoided by using techniques like timeouts, resource pooling ,or utilizing lock-free data structures."
   ]
  },
  {
   "cell_type": "markdown",
   "id": "d1f8b226-3403-40ae-8e9b-9716dc5c8054",
   "metadata": {},
   "source": [
    "2.Race Conditions: It occures when the behavior of a program depends on the relative timing of events ,such as thread scheduling or shared resources concurrently and the final outcome depend onthe order of the exicution of these threads.Here we have some example"
   ]
  },
  {
   "cell_type": "markdown",
   "id": "56e4d4c1-7866-41a1-9297-f8b756b6c412",
   "metadata": {},
   "source": [
    "Two threads ,X and Y , are accessing a shared varibale 'counter'"
   ]
  },
  {
   "cell_type": "markdown",
   "id": "4ccd1abf-ae4a-49f4-a7d9-2547873b3bde",
   "metadata": {},
   "source": [
    "Thread X reads the current value of counter"
   ]
  },
  {
   "cell_type": "markdown",
   "id": "fdc05c05-8841-4b7f-aea6-35c9bd50c80a",
   "metadata": {},
   "source": [
    "Before Thread X can ubdate 'counter 'thread Y also reads the counter value of 'counter'"
   ]
  },
  {
   "cell_type": "markdown",
   "id": "f2c5f195-46bb-43f9-81ae-7c0dd1f87613",
   "metadata": {},
   "source": [
    "Thread X increments the value of 'counter'and writes the new value back to the memory"
   ]
  },
  {
   "cell_type": "markdown",
   "id": "3329fd1f-6fa6-45d1-8f49-d68b97114c7f",
   "metadata": {},
   "source": [
    "Thread Y increments the value of 'counter' using the outdated value it read earlier and writes the new value back to the memory ,effectivelly overwritng Thread X's update."
   ]
  },
  {
   "cell_type": "markdown",
   "id": "b2495ee2-00d9-4828-943c-78a64d55c46a",
   "metadata": {},
   "source": [
    "The final value of counter may not be what was expected because of the race condition .The outcomes depends on the interleaving of the treads operation."
   ]
  },
  {
   "cell_type": "markdown",
   "id": "d38a011a-5b3f-4bc5-a29f-17133c451a0d",
   "metadata": {},
   "source": [
    "To prevent race conditions, synchronization mechanisms are used to coordinate access to shared resources .Common synchronization techniques include locks ,mutexes,semaphores and atomic operations .By properly using these mechanisms ,we can ensure that critical sections of code are exic"
   ]
  }
 ],
 "metadata": {
  "kernelspec": {
   "display_name": "Python 3 (ipykernel)",
   "language": "python",
   "name": "python3"
  },
  "language_info": {
   "codemirror_mode": {
    "name": "ipython",
    "version": 3
   },
   "file_extension": ".py",
   "mimetype": "text/x-python",
   "name": "python",
   "nbconvert_exporter": "python",
   "pygments_lexer": "ipython3",
   "version": "3.10.8"
  }
 },
 "nbformat": 4,
 "nbformat_minor": 5
}
